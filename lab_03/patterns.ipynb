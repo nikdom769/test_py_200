{
 "cells": [
  {
   "cell_type": "code",
   "execution_count": 1,
   "metadata": {},
   "outputs": [],
   "source": [
    "# Шаблон проектирования \"Стратегия\"\n",
    "\n",
    "import json\n",
    "import pickle\n",
    "\n",
    "class IStructureDriver:\n",
    "    def read(self):\n",
    "        pass\n",
    "    def write(self, d):\n",
    "        pass\n",
    "\n",
    "class JSONFileDriver(IStructureDriver):\n",
    "    def __init__(self, filename):\n",
    "        self.__filename = filename\n",
    "    \n",
    "    def read(self):\n",
    "        with open(self.__filename, encoding='UTF-8') as f:\n",
    "            return json.load(f)\n",
    "    \n",
    "    def write(self, d):\n",
    "        with open(self.__filename, 'w', encoding='UTF-8') as f:\n",
    "            json.dump(d, f, ensure_ascii=False)\n",
    "            \n",
    "class JSONStringDriver(IStructureDriver):\n",
    "    def __init__(self, s='{}'):\n",
    "        self.__s = s\n",
    "        \n",
    "    def get_string(self):\n",
    "        return self.__s\n",
    "\n",
    "    def read(self):\n",
    "        return json.loads(self.__s)\n",
    "\n",
    "    def write(self, d):\n",
    "        self.__s = json.dumps(d, ensure_ascii=False)\n",
    "        \n",
    "class PickleDriver(IStructureDriver):\n",
    "    def __init__(self, filename):\n",
    "        self.__filename = filename\n",
    "        \n",
    "    def read(self):\n",
    "        with open(self.__filename, 'rb') as f:\n",
    "            return pickle.load(f)\n",
    "        \n",
    "    def write(self, d):\n",
    "        with open(self.__filename, 'wb') as f:\n",
    "            pickle.dump(d, f)"
   ]
  },
  {
   "cell_type": "code",
   "execution_count": 2,
   "metadata": {},
   "outputs": [],
   "source": [
    "class SDWorker:\n",
    "    def __init__(self, structure_driver: IStructureDriver):\n",
    "        self.__structure_driver = structure_driver\n",
    "        \n",
    "    def do_work(self):\n",
    "        try:\n",
    "            d = self.__read_from_sd()\n",
    "        except:\n",
    "            self.__set_default()\n",
    "            self.do_work()\n",
    "            return\n",
    "        \n",
    "        print(f'Before set name: {d}')\n",
    "        d['name'] = 'Python'\n",
    "        print(f'After set name: {d}')\n",
    "        self.__write_to_sd(d)\n",
    "    \n",
    "    def __set_default(self):\n",
    "        d = {}\n",
    "        self.__write_to_sd(d)        \n",
    "        \n",
    "    def __read_from_sd(self):\n",
    "        return self.__structure_driver.read()\n",
    "    \n",
    "    def __write_to_sd(self, d):\n",
    "        self.__structure_driver.write(d)\n",
    "        \n",
    "class SDBuilder:\n",
    "    \n",
    "    def build(self):\n",
    "        return None\n",
    "    \n",
    "class JSONFileBuilder(SDBuilder):\n",
    "    \n",
    "    def build(self):\n",
    "        filename = input('Enter filename (.json)>')\n",
    "        return JSONFileDriver(filename)\n",
    "    \n",
    "class JSONStrBuilder(SDBuilder):\n",
    "    def build(self):\n",
    "        return JSONStringDriver()\n",
    "    \n",
    "class PickleBuilder(SDBuilder):\n",
    "    def build(self):\n",
    "        filename = input('Enter filename (.bin)>')\n",
    "        return PickleDriver(filename)\n",
    "    \n",
    "class SDFabric:\n",
    "    def get_sd_driver(self, driver_name):\n",
    "        builders = {'json': JSONFileBuilder,\n",
    "                    'json_str': JSONStrBuilder,\n",
    "                    'pickle': PickleBuilder}\n",
    "        try:\n",
    "            return builders[driver_name]()\n",
    "        except:\n",
    "            return SDBuilder()"
   ]
  },
  {
   "cell_type": "code",
   "execution_count": 3,
   "metadata": {
    "scrolled": true
   },
   "outputs": [
    {
     "name": "stdout",
     "output_type": "stream",
     "text": [
      "Please enter driver name >json_str\n",
      "Before set name: {}\n",
      "After set name: {'name': 'Python'}\n",
      "Для JSONStringDriver\n",
      "{\"name\": \"Python\"}\n"
     ]
    }
   ],
   "source": [
    "# main\n",
    "\n",
    "driver_name = input('Please enter driver name >')\n",
    "\n",
    "builder = SDFabric().get_sd_driver(driver_name)\n",
    "sd = builder.build()\n",
    "\n",
    "sd_worker = SDWorker(sd)\n",
    "sd_worker.do_work()\n",
    "\n",
    "if isinstance(sd, JSONStringDriver):\n",
    "    print('Для JSONStringDriver')\n",
    "    print(sd.get_string())"
   ]
  },
  {
   "cell_type": "code",
   "execution_count": 4,
   "metadata": {},
   "outputs": [],
   "source": [
    "# Наблюдатель\n",
    "\n",
    "class Observer:\n",
    "    def update(self):\n",
    "        pass\n",
    "\n",
    "class Subject:\n",
    "    \n",
    "    def __init__(self):\n",
    "        self.__o = set()\n",
    "        \n",
    "    def add_observer(self, o: Observer):\n",
    "        self.__o.add(o)\n",
    "        \n",
    "    def remove_observer(self, o: Observer):\n",
    "        self.__o[o].remove(o)\n",
    "    \n",
    "    def notify(self):\n",
    "        for o in self.__o:\n",
    "            o.update(self)            "
   ]
  },
  {
   "cell_type": "code",
   "execution_count": 5,
   "metadata": {},
   "outputs": [],
   "source": [
    "class PrintView(Observer):\n",
    "    def update(self, subject):\n",
    "        print(f'Value changed: {hex(id(subject))}')\n",
    "        \n",
    "class SimpleView(Observer):\n",
    "    def update(self, subject):\n",
    "        print(f'SimpleView: {hex(id(subject))}')"
   ]
  },
  {
   "cell_type": "code",
   "execution_count": 6,
   "metadata": {},
   "outputs": [],
   "source": [
    "class InputSubject(Subject):\n",
    "    \n",
    "    def __init__(self):\n",
    "        super().__init__()\n",
    "        self.__value = 0\n",
    "    \n",
    "    def enter_value(self):\n",
    "        value = input(\"Enter new value >\")\n",
    "        if value != self.__value:\n",
    "            self.__value = value\n",
    "            self.notify()"
   ]
  },
  {
   "cell_type": "code",
   "execution_count": 7,
   "metadata": {},
   "outputs": [],
   "source": [
    "import numpy as np"
   ]
  },
  {
   "cell_type": "code",
   "execution_count": 8,
   "metadata": {},
   "outputs": [],
   "source": [
    "a = np.array([1, 5, 6, 8])"
   ]
  },
  {
   "cell_type": "code",
   "execution_count": 14,
   "metadata": {},
   "outputs": [],
   "source": [
    "# Адаптер\n",
    "class ListAdaper(list):\n",
    "    def __init__(self, nparray):\n",
    "        self.__nparray = nparray\n",
    "        \n",
    "    def __len__(self):\n",
    "        return len(self.__nparray)\n",
    "    \n",
    "    def index(self, el):\n",
    "        for i, ela in enumerate(self.__nparray):\n",
    "            if ela == el:\n",
    "                return i\n",
    "        return -1       \n",
    "        #return list(self.__nparray).index(el)"
   ]
  },
  {
   "cell_type": "code",
   "execution_count": 15,
   "metadata": {},
   "outputs": [],
   "source": [
    "la = ListAdaper(a)"
   ]
  },
  {
   "cell_type": "code",
   "execution_count": 18,
   "metadata": {},
   "outputs": [
    {
     "data": {
      "text/plain": [
       "1"
      ]
     },
     "execution_count": 18,
     "metadata": {},
     "output_type": "execute_result"
    }
   ],
   "source": [
    "la.index(5)"
   ]
  },
  {
   "cell_type": "code",
   "execution_count": 19,
   "metadata": {},
   "outputs": [
    {
     "name": "stdout",
     "output_type": "stream",
     "text": [
      "2\n",
      "5\n",
      "fd\n"
     ]
    }
   ],
   "source": [
    "for i in {5, 2, 'fd'}:\n",
    "    print(i)"
   ]
  },
  {
   "cell_type": "code",
   "execution_count": null,
   "metadata": {},
   "outputs": [],
   "source": []
  }
 ],
 "metadata": {
  "kernelspec": {
   "display_name": "Python 3",
   "language": "python",
   "name": "python3"
  },
  "language_info": {
   "codemirror_mode": {
    "name": "ipython",
    "version": 3
   },
   "file_extension": ".py",
   "mimetype": "text/x-python",
   "name": "python",
   "nbconvert_exporter": "python",
   "pygments_lexer": "ipython3",
   "version": "3.7.1"
  }
 },
 "nbformat": 4,
 "nbformat_minor": 2
}
